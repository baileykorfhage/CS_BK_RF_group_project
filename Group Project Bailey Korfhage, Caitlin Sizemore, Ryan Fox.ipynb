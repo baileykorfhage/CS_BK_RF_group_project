{
 "cells": [
  {
   "cell_type": "code",
   "execution_count": 1,
   "id": "36d79466",
   "metadata": {},
   "outputs": [
    {
     "name": "stdout",
     "output_type": "stream",
     "text": [
      "Enter rock, paper, scissors or enter quit to stop playing: rock\n",
      "\n",
      "Your choice: rock\n",
      "The computer choice: paper\n",
      "\n",
      "The computer beat you\n",
      "Enter rock, paper, scissors or enter quit to stop playing: green\n",
      "\n",
      "Your choice: green\n",
      "The computer choice: rock\n",
      "\n",
      "Incorrect input\n",
      "Enter rock, paper, scissors or enter quit to stop playing: quit\n",
      "\n",
      "Your choice: quit\n",
      "The computer choice: paper\n"
     ]
    }
   ],
   "source": [
    "import random\n",
    "while True:\n",
    "    human=input('Enter rock, paper, scissors or enter quit to stop playing: ')\n",
    "    choicelist=['rock','paper','scissors']\n",
    "    computer=random.choice(choicelist)\n",
    "    print('\\nYour choice:', human)\n",
    "    print('The computer choice:',computer)\n",
    "    if human=='rock' and computer=='scissors':\n",
    "        print ('\\nYou beat the computer')\n",
    "    elif human=='scissors' and computer=='paper':\n",
    "        print ('\\nYou beat the computer')\n",
    "    elif human=='paper' and computer=='rock':\n",
    "        print ('\\nYou beat the computer')\n",
    "    elif human=='rock' and computer=='paper':\n",
    "        print ('\\nThe computer beat you')\n",
    "    elif human=='scissors' and computer=='rock':\n",
    "        print ('\\nThe computer beat you')\n",
    "    elif human=='paper' and computer=='scissors':\n",
    "        print ('\\nThe computer beat you')\n",
    "    elif human == 'quit':\n",
    "        break\n",
    "    elif human == computer:\n",
    "        print ('\\nDraw, try again')\n",
    "    else:\n",
    "        print ('\\nIncorrect input')"
   ]
  }
 ],
 "metadata": {
  "kernelspec": {
   "display_name": "Python 3 (ipykernel)",
   "language": "python",
   "name": "python3"
  },
  "language_info": {
   "codemirror_mode": {
    "name": "ipython",
    "version": 3
   },
   "file_extension": ".py",
   "mimetype": "text/x-python",
   "name": "python",
   "nbconvert_exporter": "python",
   "pygments_lexer": "ipython3",
   "version": "3.9.12"
  }
 },
 "nbformat": 4,
 "nbformat_minor": 5
}
